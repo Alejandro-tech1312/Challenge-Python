{
  "nbformat": 4,
  "nbformat_minor": 0,
  "metadata": {
    "colab": {
      "provenance": [],
      "include_colab_link": true
    },
    "kernelspec": {
      "name": "python3",
      "display_name": "Python 3"
    },
    "language_info": {
      "name": "python"
    }
  },
  "cells": [
    {
      "cell_type": "markdown",
      "metadata": {
        "id": "view-in-github",
        "colab_type": "text"
      },
      "source": [
        "<a href=\"https://colab.research.google.com/github/Alejandro-tech1312/Challenge-Python/blob/main/AluraStoreLatam.ipynb\" target=\"_parent\"><img src=\"https://colab.research.google.com/assets/colab-badge.svg\" alt=\"Open In Colab\"/></a>"
      ]
    },
    {
      "cell_type": "markdown",
      "source": [
        "### Importación de datos"
      ],
      "metadata": {
        "id": "8aeN6aez4t-R"
      }
    },
    {
      "cell_type": "code",
      "source": [
        "import pandas as pd\n",
        "import matplotlib.pyplot as plt\n",
        "import numpy as np\n",
        "url = \"https://raw.githubusercontent.com/alura-es-cursos/challenge1-data-science-latam/refs/heads/main/base-de-datos-challenge1-latam/tienda_1%20.csv\"\n",
        "url2 = \"https://raw.githubusercontent.com/alura-es-cursos/challenge1-data-science-latam/refs/heads/main/base-de-datos-challenge1-latam/tienda_2.csv\"\n",
        "url3 = \"https://raw.githubusercontent.com/alura-es-cursos/challenge1-data-science-latam/refs/heads/main/base-de-datos-challenge1-latam/tienda_3.csv\"\n",
        "url4 = \"https://raw.githubusercontent.com/alura-es-cursos/challenge1-data-science-latam/refs/heads/main/base-de-datos-challenge1-latam/tienda_4.csv\"\n",
        "\n",
        "tienda1 = pd.read_csv(url)\n",
        "tienda2 = pd.read_csv(url2)\n",
        "tienda3 = pd.read_csv(url3)\n",
        "tienda4 = pd.read_csv(url4)\n",
        "\n",
        "tienda1.head(2360)\n",
        "tienda2.head(2360)\n",
        "tienda3.head(2360)\n",
        "tienda4.head(2360)"
      ],
      "metadata": {
        "colab": {
          "base_uri": "https://localhost:8080/",
          "height": 615
        },
        "id": "CflHWbRu5zg3",
        "outputId": "f69fc9ec-6dbb-4bee-b699-0a286a04b089"
      },
      "execution_count": 75,
      "outputs": [
        {
          "output_type": "execute_result",
          "data": {
            "text/plain": [
              "                 Producto   Categoría del Producto     Precio  Costo de envío  \\\n",
              "0            Lavavajillas        Electrodomésticos  1084800.0         56000.0   \n",
              "1                Cama box                  Muebles   473800.0         25400.0   \n",
              "2     Balón de baloncesto     Deportes y diversión    23700.0             0.0   \n",
              "3     Modelado predictivo                   Libros    57700.0          1300.0   \n",
              "4             Auriculares             Electrónicos   138900.0          5600.0   \n",
              "...                   ...                      ...        ...             ...   \n",
              "2353      Mesa de comedor                  Muebles   227700.0         12600.0   \n",
              "2354     Silla de oficina                  Muebles   342000.0         18600.0   \n",
              "2355         Vaso térmico     Deportes y diversión    36700.0          2400.0   \n",
              "2356         Set de ollas  Artículos para el hogar   151800.0          8300.0   \n",
              "2357   Cuerda para saltar     Deportes y diversión    11200.0          1300.0   \n",
              "\n",
              "     Fecha de Compra         Vendedor Lugar de Compra  Calificación  \\\n",
              "0         11/11/2022    Rafael Acosta          Bogotá             4   \n",
              "1         03/01/2020  Izabela de León          Cúcuta             5   \n",
              "2         25/12/2022    Maria Alfonso        Medellín             5   \n",
              "3         23/11/2021    Lucas Olivera        Medellín             3   \n",
              "4         25/04/2022   Blanca Ramirez          Bogotá             4   \n",
              "...              ...              ...             ...           ...   \n",
              "2353      12/02/2020    Camila Rivera        Medellín             5   \n",
              "2354      17/05/2022    Felipe Santos     Bucaramanga             5   \n",
              "2355      03/05/2022    Camila Rivera          Bogotá             5   \n",
              "2356      15/06/2020   Blanca Ramirez            Cali             5   \n",
              "2357      17/11/2021    Felipe Santos          Bogotá             5   \n",
              "\n",
              "          Método de pago  Cantidad de cuotas      lat       lon  \n",
              "0     Tarjeta de crédito                   3  4.60971 -74.08175  \n",
              "1     Tarjeta de crédito                   2  7.89391 -72.50782  \n",
              "2                  Nequi                   1  6.25184 -75.56359  \n",
              "3                  Nequi                   1  6.25184 -75.56359  \n",
              "4     Tarjeta de crédito                   7  4.60971 -74.08175  \n",
              "...                  ...                 ...      ...       ...  \n",
              "2353  Tarjeta de crédito                   1  6.25184 -75.56359  \n",
              "2354  Tarjeta de crédito                   3  7.12539 -73.11980  \n",
              "2355  Tarjeta de crédito                   1  4.60971 -74.08175  \n",
              "2356  Tarjeta de crédito                   1  3.43722 -76.52250  \n",
              "2357  Tarjeta de crédito                   1  4.60971 -74.08175  \n",
              "\n",
              "[2358 rows x 12 columns]"
            ],
            "text/html": [
              "\n",
              "  <div id=\"df-30a92f49-f411-4904-85d2-43a5940b5e5c\" class=\"colab-df-container\">\n",
              "    <div>\n",
              "<style scoped>\n",
              "    .dataframe tbody tr th:only-of-type {\n",
              "        vertical-align: middle;\n",
              "    }\n",
              "\n",
              "    .dataframe tbody tr th {\n",
              "        vertical-align: top;\n",
              "    }\n",
              "\n",
              "    .dataframe thead th {\n",
              "        text-align: right;\n",
              "    }\n",
              "</style>\n",
              "<table border=\"1\" class=\"dataframe\">\n",
              "  <thead>\n",
              "    <tr style=\"text-align: right;\">\n",
              "      <th></th>\n",
              "      <th>Producto</th>\n",
              "      <th>Categoría del Producto</th>\n",
              "      <th>Precio</th>\n",
              "      <th>Costo de envío</th>\n",
              "      <th>Fecha de Compra</th>\n",
              "      <th>Vendedor</th>\n",
              "      <th>Lugar de Compra</th>\n",
              "      <th>Calificación</th>\n",
              "      <th>Método de pago</th>\n",
              "      <th>Cantidad de cuotas</th>\n",
              "      <th>lat</th>\n",
              "      <th>lon</th>\n",
              "    </tr>\n",
              "  </thead>\n",
              "  <tbody>\n",
              "    <tr>\n",
              "      <th>0</th>\n",
              "      <td>Lavavajillas</td>\n",
              "      <td>Electrodomésticos</td>\n",
              "      <td>1084800.0</td>\n",
              "      <td>56000.0</td>\n",
              "      <td>11/11/2022</td>\n",
              "      <td>Rafael Acosta</td>\n",
              "      <td>Bogotá</td>\n",
              "      <td>4</td>\n",
              "      <td>Tarjeta de crédito</td>\n",
              "      <td>3</td>\n",
              "      <td>4.60971</td>\n",
              "      <td>-74.08175</td>\n",
              "    </tr>\n",
              "    <tr>\n",
              "      <th>1</th>\n",
              "      <td>Cama box</td>\n",
              "      <td>Muebles</td>\n",
              "      <td>473800.0</td>\n",
              "      <td>25400.0</td>\n",
              "      <td>03/01/2020</td>\n",
              "      <td>Izabela de León</td>\n",
              "      <td>Cúcuta</td>\n",
              "      <td>5</td>\n",
              "      <td>Tarjeta de crédito</td>\n",
              "      <td>2</td>\n",
              "      <td>7.89391</td>\n",
              "      <td>-72.50782</td>\n",
              "    </tr>\n",
              "    <tr>\n",
              "      <th>2</th>\n",
              "      <td>Balón de baloncesto</td>\n",
              "      <td>Deportes y diversión</td>\n",
              "      <td>23700.0</td>\n",
              "      <td>0.0</td>\n",
              "      <td>25/12/2022</td>\n",
              "      <td>Maria Alfonso</td>\n",
              "      <td>Medellín</td>\n",
              "      <td>5</td>\n",
              "      <td>Nequi</td>\n",
              "      <td>1</td>\n",
              "      <td>6.25184</td>\n",
              "      <td>-75.56359</td>\n",
              "    </tr>\n",
              "    <tr>\n",
              "      <th>3</th>\n",
              "      <td>Modelado predictivo</td>\n",
              "      <td>Libros</td>\n",
              "      <td>57700.0</td>\n",
              "      <td>1300.0</td>\n",
              "      <td>23/11/2021</td>\n",
              "      <td>Lucas Olivera</td>\n",
              "      <td>Medellín</td>\n",
              "      <td>3</td>\n",
              "      <td>Nequi</td>\n",
              "      <td>1</td>\n",
              "      <td>6.25184</td>\n",
              "      <td>-75.56359</td>\n",
              "    </tr>\n",
              "    <tr>\n",
              "      <th>4</th>\n",
              "      <td>Auriculares</td>\n",
              "      <td>Electrónicos</td>\n",
              "      <td>138900.0</td>\n",
              "      <td>5600.0</td>\n",
              "      <td>25/04/2022</td>\n",
              "      <td>Blanca Ramirez</td>\n",
              "      <td>Bogotá</td>\n",
              "      <td>4</td>\n",
              "      <td>Tarjeta de crédito</td>\n",
              "      <td>7</td>\n",
              "      <td>4.60971</td>\n",
              "      <td>-74.08175</td>\n",
              "    </tr>\n",
              "    <tr>\n",
              "      <th>...</th>\n",
              "      <td>...</td>\n",
              "      <td>...</td>\n",
              "      <td>...</td>\n",
              "      <td>...</td>\n",
              "      <td>...</td>\n",
              "      <td>...</td>\n",
              "      <td>...</td>\n",
              "      <td>...</td>\n",
              "      <td>...</td>\n",
              "      <td>...</td>\n",
              "      <td>...</td>\n",
              "      <td>...</td>\n",
              "    </tr>\n",
              "    <tr>\n",
              "      <th>2353</th>\n",
              "      <td>Mesa de comedor</td>\n",
              "      <td>Muebles</td>\n",
              "      <td>227700.0</td>\n",
              "      <td>12600.0</td>\n",
              "      <td>12/02/2020</td>\n",
              "      <td>Camila Rivera</td>\n",
              "      <td>Medellín</td>\n",
              "      <td>5</td>\n",
              "      <td>Tarjeta de crédito</td>\n",
              "      <td>1</td>\n",
              "      <td>6.25184</td>\n",
              "      <td>-75.56359</td>\n",
              "    </tr>\n",
              "    <tr>\n",
              "      <th>2354</th>\n",
              "      <td>Silla de oficina</td>\n",
              "      <td>Muebles</td>\n",
              "      <td>342000.0</td>\n",
              "      <td>18600.0</td>\n",
              "      <td>17/05/2022</td>\n",
              "      <td>Felipe Santos</td>\n",
              "      <td>Bucaramanga</td>\n",
              "      <td>5</td>\n",
              "      <td>Tarjeta de crédito</td>\n",
              "      <td>3</td>\n",
              "      <td>7.12539</td>\n",
              "      <td>-73.11980</td>\n",
              "    </tr>\n",
              "    <tr>\n",
              "      <th>2355</th>\n",
              "      <td>Vaso térmico</td>\n",
              "      <td>Deportes y diversión</td>\n",
              "      <td>36700.0</td>\n",
              "      <td>2400.0</td>\n",
              "      <td>03/05/2022</td>\n",
              "      <td>Camila Rivera</td>\n",
              "      <td>Bogotá</td>\n",
              "      <td>5</td>\n",
              "      <td>Tarjeta de crédito</td>\n",
              "      <td>1</td>\n",
              "      <td>4.60971</td>\n",
              "      <td>-74.08175</td>\n",
              "    </tr>\n",
              "    <tr>\n",
              "      <th>2356</th>\n",
              "      <td>Set de ollas</td>\n",
              "      <td>Artículos para el hogar</td>\n",
              "      <td>151800.0</td>\n",
              "      <td>8300.0</td>\n",
              "      <td>15/06/2020</td>\n",
              "      <td>Blanca Ramirez</td>\n",
              "      <td>Cali</td>\n",
              "      <td>5</td>\n",
              "      <td>Tarjeta de crédito</td>\n",
              "      <td>1</td>\n",
              "      <td>3.43722</td>\n",
              "      <td>-76.52250</td>\n",
              "    </tr>\n",
              "    <tr>\n",
              "      <th>2357</th>\n",
              "      <td>Cuerda para saltar</td>\n",
              "      <td>Deportes y diversión</td>\n",
              "      <td>11200.0</td>\n",
              "      <td>1300.0</td>\n",
              "      <td>17/11/2021</td>\n",
              "      <td>Felipe Santos</td>\n",
              "      <td>Bogotá</td>\n",
              "      <td>5</td>\n",
              "      <td>Tarjeta de crédito</td>\n",
              "      <td>1</td>\n",
              "      <td>4.60971</td>\n",
              "      <td>-74.08175</td>\n",
              "    </tr>\n",
              "  </tbody>\n",
              "</table>\n",
              "<p>2358 rows × 12 columns</p>\n",
              "</div>\n",
              "    <div class=\"colab-df-buttons\">\n",
              "\n",
              "  <div class=\"colab-df-container\">\n",
              "    <button class=\"colab-df-convert\" onclick=\"convertToInteractive('df-30a92f49-f411-4904-85d2-43a5940b5e5c')\"\n",
              "            title=\"Convert this dataframe to an interactive table.\"\n",
              "            style=\"display:none;\">\n",
              "\n",
              "  <svg xmlns=\"http://www.w3.org/2000/svg\" height=\"24px\" viewBox=\"0 -960 960 960\">\n",
              "    <path d=\"M120-120v-720h720v720H120Zm60-500h600v-160H180v160Zm220 220h160v-160H400v160Zm0 220h160v-160H400v160ZM180-400h160v-160H180v160Zm440 0h160v-160H620v160ZM180-180h160v-160H180v160Zm440 0h160v-160H620v160Z\"/>\n",
              "  </svg>\n",
              "    </button>\n",
              "\n",
              "  <style>\n",
              "    .colab-df-container {\n",
              "      display:flex;\n",
              "      gap: 12px;\n",
              "    }\n",
              "\n",
              "    .colab-df-convert {\n",
              "      background-color: #E8F0FE;\n",
              "      border: none;\n",
              "      border-radius: 50%;\n",
              "      cursor: pointer;\n",
              "      display: none;\n",
              "      fill: #1967D2;\n",
              "      height: 32px;\n",
              "      padding: 0 0 0 0;\n",
              "      width: 32px;\n",
              "    }\n",
              "\n",
              "    .colab-df-convert:hover {\n",
              "      background-color: #E2EBFA;\n",
              "      box-shadow: 0px 1px 2px rgba(60, 64, 67, 0.3), 0px 1px 3px 1px rgba(60, 64, 67, 0.15);\n",
              "      fill: #174EA6;\n",
              "    }\n",
              "\n",
              "    .colab-df-buttons div {\n",
              "      margin-bottom: 4px;\n",
              "    }\n",
              "\n",
              "    [theme=dark] .colab-df-convert {\n",
              "      background-color: #3B4455;\n",
              "      fill: #D2E3FC;\n",
              "    }\n",
              "\n",
              "    [theme=dark] .colab-df-convert:hover {\n",
              "      background-color: #434B5C;\n",
              "      box-shadow: 0px 1px 3px 1px rgba(0, 0, 0, 0.15);\n",
              "      filter: drop-shadow(0px 1px 2px rgba(0, 0, 0, 0.3));\n",
              "      fill: #FFFFFF;\n",
              "    }\n",
              "  </style>\n",
              "\n",
              "    <script>\n",
              "      const buttonEl =\n",
              "        document.querySelector('#df-30a92f49-f411-4904-85d2-43a5940b5e5c button.colab-df-convert');\n",
              "      buttonEl.style.display =\n",
              "        google.colab.kernel.accessAllowed ? 'block' : 'none';\n",
              "\n",
              "      async function convertToInteractive(key) {\n",
              "        const element = document.querySelector('#df-30a92f49-f411-4904-85d2-43a5940b5e5c');\n",
              "        const dataTable =\n",
              "          await google.colab.kernel.invokeFunction('convertToInteractive',\n",
              "                                                    [key], {});\n",
              "        if (!dataTable) return;\n",
              "\n",
              "        const docLinkHtml = 'Like what you see? Visit the ' +\n",
              "          '<a target=\"_blank\" href=https://colab.research.google.com/notebooks/data_table.ipynb>data table notebook</a>'\n",
              "          + ' to learn more about interactive tables.';\n",
              "        element.innerHTML = '';\n",
              "        dataTable['output_type'] = 'display_data';\n",
              "        await google.colab.output.renderOutput(dataTable, element);\n",
              "        const docLink = document.createElement('div');\n",
              "        docLink.innerHTML = docLinkHtml;\n",
              "        element.appendChild(docLink);\n",
              "      }\n",
              "    </script>\n",
              "  </div>\n",
              "\n",
              "\n",
              "<div id=\"df-2a834f0b-10ed-4faa-8178-f3b71b9397e9\">\n",
              "  <button class=\"colab-df-quickchart\" onclick=\"quickchart('df-2a834f0b-10ed-4faa-8178-f3b71b9397e9')\"\n",
              "            title=\"Suggest charts\"\n",
              "            style=\"display:none;\">\n",
              "\n",
              "<svg xmlns=\"http://www.w3.org/2000/svg\" height=\"24px\"viewBox=\"0 0 24 24\"\n",
              "     width=\"24px\">\n",
              "    <g>\n",
              "        <path d=\"M19 3H5c-1.1 0-2 .9-2 2v14c0 1.1.9 2 2 2h14c1.1 0 2-.9 2-2V5c0-1.1-.9-2-2-2zM9 17H7v-7h2v7zm4 0h-2V7h2v10zm4 0h-2v-4h2v4z\"/>\n",
              "    </g>\n",
              "</svg>\n",
              "  </button>\n",
              "\n",
              "<style>\n",
              "  .colab-df-quickchart {\n",
              "      --bg-color: #E8F0FE;\n",
              "      --fill-color: #1967D2;\n",
              "      --hover-bg-color: #E2EBFA;\n",
              "      --hover-fill-color: #174EA6;\n",
              "      --disabled-fill-color: #AAA;\n",
              "      --disabled-bg-color: #DDD;\n",
              "  }\n",
              "\n",
              "  [theme=dark] .colab-df-quickchart {\n",
              "      --bg-color: #3B4455;\n",
              "      --fill-color: #D2E3FC;\n",
              "      --hover-bg-color: #434B5C;\n",
              "      --hover-fill-color: #FFFFFF;\n",
              "      --disabled-bg-color: #3B4455;\n",
              "      --disabled-fill-color: #666;\n",
              "  }\n",
              "\n",
              "  .colab-df-quickchart {\n",
              "    background-color: var(--bg-color);\n",
              "    border: none;\n",
              "    border-radius: 50%;\n",
              "    cursor: pointer;\n",
              "    display: none;\n",
              "    fill: var(--fill-color);\n",
              "    height: 32px;\n",
              "    padding: 0;\n",
              "    width: 32px;\n",
              "  }\n",
              "\n",
              "  .colab-df-quickchart:hover {\n",
              "    background-color: var(--hover-bg-color);\n",
              "    box-shadow: 0 1px 2px rgba(60, 64, 67, 0.3), 0 1px 3px 1px rgba(60, 64, 67, 0.15);\n",
              "    fill: var(--button-hover-fill-color);\n",
              "  }\n",
              "\n",
              "  .colab-df-quickchart-complete:disabled,\n",
              "  .colab-df-quickchart-complete:disabled:hover {\n",
              "    background-color: var(--disabled-bg-color);\n",
              "    fill: var(--disabled-fill-color);\n",
              "    box-shadow: none;\n",
              "  }\n",
              "\n",
              "  .colab-df-spinner {\n",
              "    border: 2px solid var(--fill-color);\n",
              "    border-color: transparent;\n",
              "    border-bottom-color: var(--fill-color);\n",
              "    animation:\n",
              "      spin 1s steps(1) infinite;\n",
              "  }\n",
              "\n",
              "  @keyframes spin {\n",
              "    0% {\n",
              "      border-color: transparent;\n",
              "      border-bottom-color: var(--fill-color);\n",
              "      border-left-color: var(--fill-color);\n",
              "    }\n",
              "    20% {\n",
              "      border-color: transparent;\n",
              "      border-left-color: var(--fill-color);\n",
              "      border-top-color: var(--fill-color);\n",
              "    }\n",
              "    30% {\n",
              "      border-color: transparent;\n",
              "      border-left-color: var(--fill-color);\n",
              "      border-top-color: var(--fill-color);\n",
              "      border-right-color: var(--fill-color);\n",
              "    }\n",
              "    40% {\n",
              "      border-color: transparent;\n",
              "      border-right-color: var(--fill-color);\n",
              "      border-top-color: var(--fill-color);\n",
              "    }\n",
              "    60% {\n",
              "      border-color: transparent;\n",
              "      border-right-color: var(--fill-color);\n",
              "    }\n",
              "    80% {\n",
              "      border-color: transparent;\n",
              "      border-right-color: var(--fill-color);\n",
              "      border-bottom-color: var(--fill-color);\n",
              "    }\n",
              "    90% {\n",
              "      border-color: transparent;\n",
              "      border-bottom-color: var(--fill-color);\n",
              "    }\n",
              "  }\n",
              "</style>\n",
              "\n",
              "  <script>\n",
              "    async function quickchart(key) {\n",
              "      const quickchartButtonEl =\n",
              "        document.querySelector('#' + key + ' button');\n",
              "      quickchartButtonEl.disabled = true;  // To prevent multiple clicks.\n",
              "      quickchartButtonEl.classList.add('colab-df-spinner');\n",
              "      try {\n",
              "        const charts = await google.colab.kernel.invokeFunction(\n",
              "            'suggestCharts', [key], {});\n",
              "      } catch (error) {\n",
              "        console.error('Error during call to suggestCharts:', error);\n",
              "      }\n",
              "      quickchartButtonEl.classList.remove('colab-df-spinner');\n",
              "      quickchartButtonEl.classList.add('colab-df-quickchart-complete');\n",
              "    }\n",
              "    (() => {\n",
              "      let quickchartButtonEl =\n",
              "        document.querySelector('#df-2a834f0b-10ed-4faa-8178-f3b71b9397e9 button');\n",
              "      quickchartButtonEl.style.display =\n",
              "        google.colab.kernel.accessAllowed ? 'block' : 'none';\n",
              "    })();\n",
              "  </script>\n",
              "</div>\n",
              "\n",
              "    </div>\n",
              "  </div>\n"
            ],
            "application/vnd.google.colaboratory.intrinsic+json": {
              "type": "dataframe",
              "variable_name": "tienda4",
              "summary": "{\n  \"name\": \"tienda4\",\n  \"rows\": 2358,\n  \"fields\": [\n    {\n      \"column\": \"Producto\",\n      \"properties\": {\n        \"dtype\": \"category\",\n        \"num_unique_values\": 51,\n        \"samples\": [\n          \"Microondas\",\n          \"Set de ollas\",\n          \"Lavadora de ropa\"\n        ],\n        \"semantic_type\": \"\",\n        \"description\": \"\"\n      }\n    },\n    {\n      \"column\": \"Categor\\u00eda del Producto\",\n      \"properties\": {\n        \"dtype\": \"category\",\n        \"num_unique_values\": 8,\n        \"samples\": [\n          \"Muebles\",\n          \"Instrumentos musicales\",\n          \"Electrodom\\u00e9sticos\"\n        ],\n        \"semantic_type\": \"\",\n        \"description\": \"\"\n      }\n    },\n    {\n      \"column\": \"Precio\",\n      \"properties\": {\n        \"dtype\": \"number\",\n        \"std\": 568755.6039486045,\n        \"min\": 7600.0,\n        \"max\": 2902200.0,\n        \"num_unique_values\": 1867,\n        \"samples\": [\n          2151200.0,\n          738300.0,\n          35700.0\n        ],\n        \"semantic_type\": \"\",\n        \"description\": \"\"\n      }\n    },\n    {\n      \"column\": \"Costo de env\\u00edo\",\n      \"properties\": {\n        \"dtype\": \"number\",\n        \"std\": 30279.100835978752,\n        \"min\": 0.0,\n        \"max\": 154700.0,\n        \"num_unique_values\": 692,\n        \"samples\": [\n          73000.0,\n          21300.0,\n          48400.0\n        ],\n        \"semantic_type\": \"\",\n        \"description\": \"\"\n      }\n    },\n    {\n      \"column\": \"Fecha de Compra\",\n      \"properties\": {\n        \"dtype\": \"category\",\n        \"num_unique_values\": 1030,\n        \"samples\": [\n          \"12/06/2022\",\n          \"18/04/2021\",\n          \"24/12/2020\"\n        ],\n        \"semantic_type\": \"\",\n        \"description\": \"\"\n      }\n    },\n    {\n      \"column\": \"Vendedor\",\n      \"properties\": {\n        \"dtype\": \"category\",\n        \"num_unique_values\": 14,\n        \"samples\": [\n          \"Pedro Gomez\",\n          \"Mariana Herrera\",\n          \"Rafael Acosta\"\n        ],\n        \"semantic_type\": \"\",\n        \"description\": \"\"\n      }\n    },\n    {\n      \"column\": \"Lugar de Compra\",\n      \"properties\": {\n        \"dtype\": \"category\",\n        \"num_unique_values\": 19,\n        \"samples\": [\n          \"Bogot\\u00e1\",\n          \"Leticia\",\n          \"Barranquilla\"\n        ],\n        \"semantic_type\": \"\",\n        \"description\": \"\"\n      }\n    },\n    {\n      \"column\": \"Calificaci\\u00f3n\",\n      \"properties\": {\n        \"dtype\": \"number\",\n        \"std\": 1,\n        \"min\": 1,\n        \"max\": 5,\n        \"num_unique_values\": 5,\n        \"samples\": [\n          5,\n          2,\n          3\n        ],\n        \"semantic_type\": \"\",\n        \"description\": \"\"\n      }\n    },\n    {\n      \"column\": \"M\\u00e9todo de pago\",\n      \"properties\": {\n        \"dtype\": \"category\",\n        \"num_unique_values\": 4,\n        \"samples\": [\n          \"Nequi\",\n          \"Tarjeta de d\\u00e9bito\",\n          \"Tarjeta de cr\\u00e9dito\"\n        ],\n        \"semantic_type\": \"\",\n        \"description\": \"\"\n      }\n    },\n    {\n      \"column\": \"Cantidad de cuotas\",\n      \"properties\": {\n        \"dtype\": \"number\",\n        \"std\": 2,\n        \"min\": 1,\n        \"max\": 18,\n        \"num_unique_values\": 13,\n        \"samples\": [\n          18,\n          9,\n          3\n        ],\n        \"semantic_type\": \"\",\n        \"description\": \"\"\n      }\n    },\n    {\n      \"column\": \"lat\",\n      \"properties\": {\n        \"dtype\": \"number\",\n        \"std\": 2.37672825841418,\n        \"min\": -4.21528,\n        \"max\": 11.54444,\n        \"num_unique_values\": 19,\n        \"samples\": [\n          4.60971,\n          -4.21528,\n          10.96854\n        ],\n        \"semantic_type\": \"\",\n        \"description\": \"\"\n      }\n    },\n    {\n      \"column\": \"lon\",\n      \"properties\": {\n        \"dtype\": \"number\",\n        \"std\": 1.1997491363183892,\n        \"min\": -77.28111,\n        \"max\": -67.9239,\n        \"num_unique_values\": 19,\n        \"samples\": [\n          -74.08175,\n          -69.94056,\n          -74.78132\n        ],\n        \"semantic_type\": \"\",\n        \"description\": \"\"\n      }\n    }\n  ]\n}"
            }
          },
          "metadata": {},
          "execution_count": 75
        }
      ]
    },
    {
      "cell_type": "markdown",
      "source": [
        "#1. Análisis de facturación"
      ],
      "metadata": {
        "id": "OwE9y85y4xo3"
      }
    },
    {
      "cell_type": "code",
      "source": [
        "# Creamos una lista de tuplas (nombre_tienda, dataframe)\n",
        "tiendas = [(\"Tienda 1\", tienda1), (\"Tienda 2\", tienda2), (\"Tienda 3\", tienda3), (\"Tienda 4\", tienda4)]\n",
        "\n",
        "# Calculamos facturaciones con tuplas\n",
        "ventas_totales = [(nombre, tienda['Precio'].sum()) for nombre, tienda in tiendas]\n",
        "\n",
        "# Mostramos las facturaciones totales\n",
        "print(\"Facturación total por tienda:\")\n",
        "for nombre, total in ventas_totales:\n",
        "    print(f\"{nombre}: ${total:,.0f}\")\n",
        "\n",
        "# Identificamos la tienda con mayor facturación\n",
        "tienda_top = max(ventas_totales, key=lambda x: x[1])\n",
        "print(f\"\\nLa tienda con mayor facturación es la {tienda_top[0]}, con un total de ${tienda_top[1]:,.0f}.\")"
      ],
      "metadata": {
        "colab": {
          "base_uri": "https://localhost:8080/"
        },
        "id": "6cLNkTmW56S3",
        "outputId": "fac2952d-8749-41e0-f041-01b895cc4fa5"
      },
      "execution_count": 76,
      "outputs": [
        {
          "output_type": "stream",
          "name": "stdout",
          "text": [
            "Facturación total por tienda:\n",
            "Tienda 1: $1,150,880,400\n",
            "Tienda 2: $1,116,343,500\n",
            "Tienda 3: $1,098,019,600\n",
            "Tienda 4: $1,038,375,700\n",
            "\n",
            "La tienda con mayor facturación es la Tienda 1, con un total de $1,150,880,400.\n"
          ]
        }
      ]
    },
    {
      "cell_type": "code",
      "source": [
        "import matplotlib.pyplot as plt\n",
        "\n",
        "# Separar los nombres y los valores desde la lista de tuplas\n",
        "nombres_tiendas = [nombre for nombre, _ in ventas_totales]\n",
        "valores_facturacion = [facturacion for _, facturacion in ventas_totales]\n",
        "\n",
        "# Crear el gráfico de barras\n",
        "plt.figure(figsize=(8, 5))\n",
        "plt.bar(nombres_tiendas, valores_facturacion, color=[\"steelblue\", \"seagreen\", \"salmon\", \"orange\"])\n",
        "\n",
        "# Títulos y etiquetas\n",
        "plt.title(\"Facturación por Tienda\", fontsize=14)\n",
        "plt.xlabel(\"Tienda\", fontsize=12)\n",
        "plt.ylabel(\"Facturación Total ($)\", fontsize=12)\n",
        "\n",
        "# Evitar notación científica y agregar etiquetas\n",
        "plt.ticklabel_format(style='plain', axis='y')\n",
        "for i, valor in enumerate(valores_facturacion):\n",
        "    plt.text(i, valor + max(valores_facturacion)*0.01, f\"${valor:,.0f}\", ha='center', fontsize=10)\n",
        "\n",
        "plt.ylim(0, max(valores_facturacion) * 1.1)\n",
        "plt.tight_layout()\n",
        "plt.show()"
      ],
      "metadata": {
        "colab": {
          "base_uri": "https://localhost:8080/",
          "height": 507
        },
        "id": "D6VDjNMR6ClH",
        "outputId": "f98f76f8-025c-4d04-9e7a-b478f4692984"
      },
      "execution_count": 77,
      "outputs": [
        {
          "output_type": "display_data",
          "data": {
            "text/plain": [
              "<Figure size 800x500 with 1 Axes>"
            ],
            "image/png": "[encoded data removed]"
          },
          "metadata": {}
        }
      ]
    },
    {
      "cell_type": "markdown",
      "source": [
        "# 2. Ventas por categoría"
      ],
      "metadata": {
        "id": "2V_vcAPzWZmR"
      }
    },
    {
      "cell_type": "code",
      "source": [
        "# Lista de tuplas con nombre y DataFrame de cada tienda\n",
        "tiendas = [(\"Tienda 1\", tienda1), (\"Tienda 2\", tienda2), (\"Tienda 3\", tienda3), (\"Tienda 4\", tienda4)]\n",
        "\n",
        "# Iteramos para calcular y mostrar las ventas por categoría ordenadas\n",
        "for nombre, df in tiendas:\n",
        "    ventas_por_categoria = df.groupby('Categoría del Producto')['Precio'].sum().sort_values(ascending=False)\n",
        "    print(f'Ventas por categoría - {nombre}:\\n{ventas_por_categoria.to_string()}\\n')"
      ],
      "metadata": {
        "colab": {
          "base_uri": "https://localhost:8080/"
        },
        "id": "8Ux6K8Vv6I54",
        "outputId": "7ada65b3-debb-4fe2-9423-ab02427ca8d4"
      },
      "execution_count": 78,
      "outputs": [
        {
          "output_type": "stream",
          "name": "stdout",
          "text": [
            "Ventas por categoría - Tienda 1:\n",
            "Categoría del Producto\n",
            "Electrónicos               429493500.0\n",
            "Electrodomésticos          363685200.0\n",
            "Muebles                    187633700.0\n",
            "Instrumentos musicales      91299000.0\n",
            "Deportes y diversión        39290000.0\n",
            "Juguetes                    17995700.0\n",
            "Artículos para el hogar     12698400.0\n",
            "Libros                       8784900.0\n",
            "\n",
            "Ventas por categoría - Tienda 2:\n",
            "Categoría del Producto\n",
            "Electrónicos               410831100.0\n",
            "Electrodomésticos          348567800.0\n",
            "Muebles                    176426300.0\n",
            "Instrumentos musicales     104990300.0\n",
            "Deportes y diversión        34744500.0\n",
            "Juguetes                    15945400.0\n",
            "Artículos para el hogar     14746900.0\n",
            "Libros                      10091200.0\n",
            "\n",
            "Ventas por categoría - Tienda 3:\n",
            "Categoría del Producto\n",
            "Electrónicos               410775800.0\n",
            "Electrodomésticos          329237900.0\n",
            "Muebles                    201072100.0\n",
            "Instrumentos musicales      77380900.0\n",
            "Deportes y diversión        35593100.0\n",
            "Juguetes                    19401100.0\n",
            "Artículos para el hogar     15060000.0\n",
            "Libros                       9498700.0\n",
            "\n",
            "Ventas por categoría - Tienda 4:\n",
            "Categoría del Producto\n",
            "Electrónicos               409476100.0\n",
            "Electrodomésticos          283260200.0\n",
            "Muebles                    192528900.0\n",
            "Instrumentos musicales      75102400.0\n",
            "Deportes y diversión        33350100.0\n",
            "Juguetes                    20262200.0\n",
            "Artículos para el hogar     15074500.0\n",
            "Libros                       9321300.0\n",
            "\n"
          ]
        }
      ]
    },
    {
      "cell_type": "code",
      "source": [
        "# Lista de tuplas con nombre y DataFrame\n",
        "tiendas = [(\"Tienda 1\", tienda1), (\"Tienda 2\", tienda2), (\"Tienda 3\", tienda3), (\"Tienda 4\", tienda4)]\n",
        "\n",
        "# Iteramos para calcular y mostrar la categoría más vendida por tienda\n",
        "for nombre, df in tiendas:\n",
        "    ventas = df.groupby('Categoría del Producto')['Precio'].sum()\n",
        "    categoria_max = ventas.idxmax()\n",
        "    print(f\"La categoría más vendida en {nombre} es: {categoria_max}\")\n"
      ],
      "metadata": {
        "colab": {
          "base_uri": "https://localhost:8080/"
        },
        "id": "QPXSGJKe6MEm",
        "outputId": "da09e1f9-6f18-4554-fa24-7bb8af784125"
      },
      "execution_count": 79,
      "outputs": [
        {
          "output_type": "stream",
          "name": "stdout",
          "text": [
            "La categoría más vendida en Tienda 1 es: Electrónicos\n",
            "La categoría más vendida en Tienda 2 es: Electrónicos\n",
            "La categoría más vendida en Tienda 3 es: Electrónicos\n",
            "La categoría más vendida en Tienda 4 es: Electrónicos\n"
          ]
        }
      ]
    },
    {
      "cell_type": "code",
      "source": [
        "import matplotlib.pyplot as plt\n",
        "import numpy as np\n",
        "\n",
        "# Lista de tuplas con nombre y DataFrame\n",
        "tiendas = [(\"Tienda 1\", tienda1), (\"Tienda 2\", tienda2), (\"Tienda 3\", tienda3), (\"Tienda 4\", tienda4)]\n",
        "\n",
        "# Obtenemos categorías más vendidas y sus montos\n",
        "categorias_maximas = []\n",
        "montos_maximos = []\n",
        "nombres_tiendas = []\n",
        "\n",
        "for nombre, df in tiendas:\n",
        "    ventas_por_categoria = df.groupby('Categoría del Producto')['Precio'].sum()\n",
        "    categoria_top = ventas_por_categoria.idxmax()\n",
        "    monto_top = ventas_por_categoria.max()\n",
        "    nombres_tiendas.append(nombre)\n",
        "    categorias_maximas.append(categoria_top)\n",
        "    montos_maximos.append(monto_top)\n",
        "\n",
        "# Colores diferentes por barra\n",
        "colores = plt.cm.Set3(np.linspace(0, 1, len(nombres_tiendas)))\n",
        "\n",
        "# Crear gráfico\n",
        "plt.figure(figsize=(10, 6))\n",
        "plt.bar(nombres_tiendas, montos_maximos, color=colores)\n",
        "plt.xlabel(\"Tiendas\")\n",
        "plt.ylabel(\"Monto Total ($)\")\n",
        "plt.title(\"Categoría Más Vendida por Tienda\")\n",
        "\n",
        "# Etiquetas sobre las barras\n",
        "for i in range(len(nombres_tiendas)):\n",
        "    plt.text(i, montos_maximos[i] + max(montos_maximos)*0.02,\n",
        "             f\"{categorias_maximas[i]}\\n${montos_maximos[i]:,.0f}\",\n",
        "             ha='center', va='bottom')\n",
        "\n",
        "plt.ylim(0, max(montos_maximos) * 1.3)\n",
        "plt.ticklabel_format(style='plain', axis='y')\n",
        "plt.grid(axis='y', linestyle='--', alpha=0.5)\n",
        "plt.tight_layout()\n",
        "plt.show()\n"
      ],
      "metadata": {
        "colab": {
          "base_uri": "https://localhost:8080/",
          "height": 607
        },
        "id": "MrofScxM7njf",
        "outputId": "0ecd99af-c958-4ca3-b71f-27279638457d"
      },
      "execution_count": 80,
      "outputs": [
        {
          "output_type": "display_data",
          "data": {
            "text/plain": [
              "<Figure size 1000x600 with 1 Axes>"
            ],
            "image/png": "[encoded data removed]"
          },
          "metadata": {}
        }
      ]
    },
    {
      "cell_type": "markdown",
      "source": [
        "# 3. Calificación promedio de la tienda\n"
      ],
      "metadata": {
        "id": "Rq6tU_xSY3jk"
      }
    },
    {
      "cell_type": "code",
      "source": [
        "# Lista de tuplas con nombre y DataFrame\n",
        "tiendas = [(\"Tienda 1\", tienda1), (\"Tienda 2\", tienda2), (\"Tienda 3\", tienda3), (\"Tienda 4\", tienda4)]\n",
        "\n",
        "# Calcular promedios y guardarlos en una lista de tuplas\n",
        "promedios = []\n",
        "for nombre, df in tiendas:\n",
        "    promedio = df['Calificación'].mean()\n",
        "    promedios.append((nombre, promedio))\n",
        "\n",
        "# Imprimir promedios\n",
        "print(\"Promedio de calificación de cada tienda:\")\n",
        "for tienda, promedio in promedios:\n",
        "    print(f\"{tienda}: {promedio:.3f}\")\n",
        "\n",
        "# Tiendas con mejor y peor calificación\n",
        "tienda_mejor_calificacion = max(promedios, key=lambda x: x[1])[0]\n",
        "tienda_peor_calificacion = min(promedios, key=lambda x: x[1])[0]\n",
        "\n",
        "print(f\"\\nLa {tienda_mejor_calificacion} tiene la calificación más alta\")\n",
        "print(f\"\\nLa {tienda_peor_calificacion} tiene la calificación más baja\")\n"
      ],
      "metadata": {
        "colab": {
          "base_uri": "https://localhost:8080/"
        },
        "id": "6eNWFEh58oVW",
        "outputId": "a705a709-fabd-43df-aeca-41b7889fe3b0"
      },
      "execution_count": 81,
      "outputs": [
        {
          "output_type": "stream",
          "name": "stdout",
          "text": [
            "Promedio de calificación de cada tienda:\n",
            "Tienda 1: 3.977\n",
            "Tienda 2: 4.037\n",
            "Tienda 3: 4.048\n",
            "Tienda 4: 3.996\n",
            "\n",
            "La Tienda 3 tiene la calificación más alta\n",
            "\n",
            "La Tienda 1 tiene la calificación más baja\n"
          ]
        }
      ]
    },
    {
      "cell_type": "markdown",
      "source": [
        "# 4. Productos más y menos vendidos"
      ],
      "metadata": {
        "id": "DmNp1KPBZCm-"
      }
    },
    {
      "cell_type": "code",
      "source": [
        "# Función auxiliar para obtener los productos más y menos vendidos\n",
        "def resumen_ventas_por_producto(df, nombre_tienda):\n",
        "    agrupado = df.groupby(\"Producto\")[\"Cantidad de cuotas\"].sum()\n",
        "    producto_top = agrupado.idxmax()\n",
        "    cantidad_top = agrupado.max()\n",
        "    producto_min = agrupado.idxmin()\n",
        "    cantidad_min = agrupado.min()\n",
        "\n",
        "    return producto_top, cantidad_top, producto_min, cantidad_min\n",
        "\n",
        "# Aplicamos la función a cada tienda y almacenamos los resultados en un diccionario\n",
        "ventas_resumen = {}\n",
        "\n",
        "for i, tienda_df in enumerate([tienda1, tienda2, tienda3, tienda4], start=1):\n",
        "    nombre = f\"Tienda {i}\"\n",
        "    producto_top, cantidad_top, producto_min, cantidad_min = resumen_ventas_por_producto(tienda_df, nombre)\n",
        "    ventas_resumen[nombre] = {\n",
        "        'mas_vendido': (producto_top, cantidad_top),\n",
        "        'menos_vendido': (producto_min, cantidad_min)\n",
        "    }\n",
        "\n",
        "# Mostrar los resultados\n",
        "for nombre, resumen in ventas_resumen.items():\n",
        "    print(f\"\\n{nombre}\")\n",
        "    print(f\"  ➤ Más vendido: {resumen['mas_vendido'][0]} (Cuotas: {resumen['mas_vendido'][1]})\")\n",
        "    print(f\"  ➤ Menos vendido: {resumen['menos_vendido'][0]} (Cuotas: {resumen['menos_vendido'][1]})\")\n"
      ],
      "metadata": {
        "colab": {
          "base_uri": "https://localhost:8080/"
        },
        "id": "pHe6dw9_9MDG",
        "outputId": "260831f8-dcb8-4a8c-c637-c26d22aa94ee"
      },
      "execution_count": 82,
      "outputs": [
        {
          "output_type": "stream",
          "name": "stdout",
          "text": [
            "\n",
            "Tienda 1\n",
            "  ➤ Más vendido: Secadora de ropa (Cuotas: 214)\n",
            "  ➤ Menos vendido: Celular ABXY (Cuotas: 78)\n",
            "\n",
            "Tienda 2\n",
            "  ➤ Más vendido: Iniciando en programación (Cuotas: 223)\n",
            "  ➤ Menos vendido: Mesa de comedor (Cuotas: 89)\n",
            "\n",
            "Tienda 3\n",
            "  ➤ Más vendido: Bicicleta (Cuotas: 191)\n",
            "  ➤ Menos vendido: TV LED UHD 4K (Cuotas: 94)\n",
            "\n",
            "Tienda 4\n",
            "  ➤ Más vendido: Dashboards con Power BI (Cuotas: 196)\n",
            "  ➤ Menos vendido: Armario (Cuotas: 88)\n"
          ]
        }
      ]
    },
    {
      "cell_type": "code",
      "source": [
        "import matplotlib.pyplot as plt\n",
        "\n",
        "# Extraer los datos del diccionario ventas_resumen\n",
        "tiendas = list(ventas_resumen.keys())\n",
        "productos_mas = [ventas_resumen[t]['mas_vendido'][0] for t in tiendas]\n",
        "cuotas_mas = [ventas_resumen[t]['mas_vendido'][1] for t in tiendas]\n",
        "productos_menos = [ventas_resumen[t]['menos_vendido'][0] for t in tiendas]\n",
        "cuotas_menos = [ventas_resumen[t]['menos_vendido'][1] for t in tiendas]\n",
        "\n",
        "# Crear gráfico de barras apiladas\n",
        "fig, ax = plt.subplots(figsize=(12, 6))\n",
        "\n",
        "# Barras inferiores: productos menos vendidos\n",
        "ax.bar(tiendas, cuotas_menos, color=\"salmon\", label=\"Menos vendido\")\n",
        "\n",
        "# Barras superiores: productos más vendidos\n",
        "ax.bar(tiendas, cuotas_mas, bottom=cuotas_menos, color=\"mediumseagreen\", label=\"Más vendido\")\n",
        "\n",
        "# Agregar etiquetas dentro de las barras\n",
        "for i in range(len(tiendas)):\n",
        "    ax.text(i, cuotas_menos[i] / 2, productos_menos[i], ha='center', va='center', fontsize=8)\n",
        "    ax.text(i, cuotas_menos[i] + cuotas_mas[i] / 2, productos_mas[i], ha='center', va='center', fontsize=8)\n",
        "\n",
        "# Ajustes del gráfico\n",
        "ax.set_title(\"Productos más y menos vendidos por tienda\", fontsize=14)\n",
        "ax.set_ylabel(\"Cantidad de cuotas\")\n",
        "ax.legend()\n",
        "plt.tight_layout()\n",
        "plt.show()\n"
      ],
      "metadata": {
        "colab": {
          "base_uri": "https://localhost:8080/",
          "height": 607
        },
        "id": "-NAkFvn-9TJN",
        "outputId": "1da64308-4e45-43f2-fd58-ded9ce0c148d"
      },
      "execution_count": 83,
      "outputs": [
        {
          "output_type": "display_data",
          "data": {
            "text/plain": [
              "<Figure size 1200x600 with 1 Axes>"
            ],
            "image/png": "[encoded data removed]"
          },
          "metadata": {}
        }
      ]
    },
    {
      "cell_type": "markdown",
      "source": [
        "# 5. Envío promedio por tienda"
      ],
      "metadata": {
        "id": "Fl0cGi3bZKqU"
      }
    },
    {
      "cell_type": "code",
      "source": [
        "# Lista de nombres y DataFrames de las tiendas\n",
        "nombres_tiendas = [\"Tienda 1\", \"Tienda 2\", \"Tienda 3\", \"Tienda 4\"]\n",
        "dataframes = [tienda1, tienda2, tienda3, tienda4]\n",
        "\n",
        "# Usamos zip y dict comprehension para crear el diccionario de promedios\n",
        "envios = {nombre: df['Costo de envío'].mean() for nombre, df in zip(nombres_tiendas, dataframes)}\n",
        "\n",
        "# Imprimimos el título y encabezados\n",
        "print(\"Costo de envío promedio por tienda:\")\n",
        "print(\"\\t\".join(envios.keys()))\n",
        "print(\"\\t\".join([f\"{costo:.2f}\" for costo in envios.values()]))\n",
        "\n",
        "# Determinamos tienda con envío más alto y más bajo\n",
        "tienda_mas_alto_envio = max(envios, key=envios.get)\n",
        "tienda_mas_bajo_envio = min(envios, key=envios.get)\n",
        "\n",
        "# Mostramos resultados\n",
        "print(f\"\\nLa {tienda_mas_alto_envio} tiene el costo de envío más alto: ${envios[tienda_mas_alto_envio]:.2f}\")\n",
        "print(f\"La {tienda_mas_bajo_envio} tiene el costo de envío más bajo: ${envios[tienda_mas_bajo_envio]:.2f}\")\n",
        "\n"
      ],
      "metadata": {
        "colab": {
          "base_uri": "https://localhost:8080/"
        },
        "id": "xPyODlXh-Fl2",
        "outputId": "ceb80927-b982-4115-e320-803c906cf196"
      },
      "execution_count": 84,
      "outputs": [
        {
          "output_type": "stream",
          "name": "stdout",
          "text": [
            "Costo de envío promedio por tienda:\n",
            "Tienda 1\tTienda 2\tTienda 3\tTienda 4\n",
            "26018.61\t25216.24\t24805.68\t23459.46\n",
            "\n",
            "La Tienda 1 tiene el costo de envío más alto: $26018.61\n",
            "La Tienda 4 tiene el costo de envío más bajo: $23459.46\n"
          ]
        }
      ]
    },
    {
      "cell_type": "markdown",
      "source": [
        "# 6. Análisis Ventas/Costo de Envío por Tienda y su incidencia"
      ],
      "metadata": {
        "id": "SEx1lG3SJG1V"
      }
    },
    {
      "cell_type": "code",
      "source": [
        "# Datos de cada tienda como tuplas: (Tienda, Ventas, Costo de envío)\n",
        "tiendas = [\n",
        "    (\"Tienda 1\", 1150880400.0, 26018.61),\n",
        "    (\"Tienda 2\", 1116343500.0, 25216.24),\n",
        "    (\"Tienda 3\", 1098019600.0, 24805.68),\n",
        "    (\"Tienda 4\", 1038375700.0, 23459.46)\n",
        "]\n",
        "\n",
        "# Umbral de incidencia\n",
        "umbral = 0.50\n",
        "\n",
        "# Cálculo de incidencias como diccionario con comprensión\n",
        "incidencias = {\n",
        "    tienda: round((costo_envio / ventas) * 100, 6)\n",
        "    for tienda, ventas, costo_envio in tiendas\n",
        "}\n",
        "\n",
        "# Mostrar resultados con clasificación usando if-else y lambda\n",
        "print(\"Incidencia del costo de envío como porcentaje en las ventas:\")\n",
        "for tienda, incidencia in incidencias.items():\n",
        "    clasificacion = \"ALTA\" if incidencia >= umbral else \"BAJA/NULA\"\n",
        "    print(f\"{tienda}: {incidencia}% - Incidencia {clasificacion}\")\n"
      ],
      "metadata": {
        "colab": {
          "base_uri": "https://localhost:8080/"
        },
        "id": "jngYQpyW_FSs",
        "outputId": "abdc93c7-124a-4fe2-f891-e0bb3be09f6e"
      },
      "execution_count": 85,
      "outputs": [
        {
          "output_type": "stream",
          "name": "stdout",
          "text": [
            "Incidencia del costo de envío como porcentaje en las ventas:\n",
            "Tienda 1: 0.002261% - Incidencia BAJA/NULA\n",
            "Tienda 2: 0.002259% - Incidencia BAJA/NULA\n",
            "Tienda 3: 0.002259% - Incidencia BAJA/NULA\n",
            "Tienda 4: 0.002259% - Incidencia BAJA/NULA\n"
          ]
        }
      ]
    },
    {
      "cell_type": "markdown",
      "source": [
        "# 7. Cantidad de Empleados y Nombres por Tienda"
      ],
      "metadata": {
        "id": "jBkfC9IbJZr9"
      }
    },
    {
      "cell_type": "code",
      "source": [
        "# Función para extraer apellido y nombre\n",
        "def obtener_apellido_y_nombre(nombre_completo):\n",
        "    partes = nombre_completo.split()\n",
        "    return partes[-1], ' '.join(partes[:-1])\n",
        "\n",
        "# Lista de DataFrames con sus nombres\n",
        "tiendas = [\n",
        "    (\"Tienda 1\", tienda1),\n",
        "    (\"Tienda 2\", tienda2),\n",
        "    (\"Tienda 3\", tienda3),\n",
        "    (\"Tienda 4\", tienda4)\n",
        "]\n",
        "\n",
        "# Obtenemos empleados únicos, ordenados por apellido\n",
        "empleados_por_tienda = [\n",
        "    (nombre, sorted(df['Vendedor'].unique(), key=obtener_apellido_y_nombre))\n",
        "    for nombre, df in tiendas\n",
        "]\n",
        "\n",
        "# Mostramos empleados por tienda\n",
        "for nombre, empleados in empleados_por_tienda:\n",
        "    print(f'\\n{nombre} tiene {len(empleados)} empleados:')\n",
        "    for empleado in empleados:\n",
        "        apellido, nombre_empleado = obtener_apellido_y_nombre(empleado)\n",
        "        print(f'  - {apellido}, {nombre_empleado}')\n",
        "\n",
        "# Verificamos si todas las tiendas comparten el mismo conjunto de empleados\n",
        "conjuntos_empleados = [set(empleados) for _, empleados in empleados_por_tienda]\n",
        "comparten_empleados = all(conjunto == conjuntos_empleados[0] for conjunto in conjuntos_empleados[1:])\n",
        "\n",
        "# Mostramos resultado de la comparación\n",
        "print(\"\\nLas Tiendas comparten sus empleados.\" if comparten_empleados else \"\\nCada Tienda tiene sus propios empleados.\")"
      ],
      "metadata": {
        "colab": {
          "base_uri": "https://localhost:8080/"
        },
        "id": "d4T21sIq_MuO",
        "outputId": "6d897c44-2cea-4cdb-8f06-b95ca713103f"
      },
      "execution_count": 89,
      "outputs": [
        {
          "output_type": "stream",
          "name": "stdout",
          "text": [
            "\n",
            "Tienda 1 tiene 14 empleados:\n",
            "  - Acosta, Rafael\n",
            "  - Alfonso, Maria\n",
            "  - Costa, Juliana\n",
            "  - Fernandez, Juan\n",
            "  - Gomez, Pedro\n",
            "  - Herrera, Mariana\n",
            "  - León, Izabela de\n",
            "  - Morales, Beatriz\n",
            "  - Olivera, Lucas\n",
            "  - Ramirez, Blanca\n",
            "  - Rivera, Camila\n",
            "  - Rodriguez, Ángel\n",
            "  - Santos, Felipe\n",
            "  - Silva, Santiago\n",
            "\n",
            "Tienda 2 tiene 14 empleados:\n",
            "  - Acosta, Rafael\n",
            "  - Alfonso, Maria\n",
            "  - Costa, Juliana\n",
            "  - Fernandez, Juan\n",
            "  - Gomez, Pedro\n",
            "  - Herrera, Mariana\n",
            "  - León, Izabela de\n",
            "  - Morales, Beatriz\n",
            "  - Olivera, Lucas\n",
            "  - Ramirez, Blanca\n",
            "  - Rivera, Camila\n",
            "  - Rodriguez, Ángel\n",
            "  - Santos, Felipe\n",
            "  - Silva, Santiago\n",
            "\n",
            "Tienda 3 tiene 14 empleados:\n",
            "  - Acosta, Rafael\n",
            "  - Alfonso, Maria\n",
            "  - Costa, Juliana\n",
            "  - Fernandez, Juan\n",
            "  - Gomez, Pedro\n",
            "  - Herrera, Mariana\n",
            "  - León, Izabela de\n",
            "  - Morales, Beatriz\n",
            "  - Olivera, Lucas\n",
            "  - Ramirez, Blanca\n",
            "  - Rivera, Camila\n",
            "  - Rodriguez, Ángel\n",
            "  - Santos, Felipe\n",
            "  - Silva, Santiago\n",
            "\n",
            "Tienda 4 tiene 14 empleados:\n",
            "  - Acosta, Rafael\n",
            "  - Alfonso, Maria\n",
            "  - Costa, Juliana\n",
            "  - Fernandez, Juan\n",
            "  - Gomez, Pedro\n",
            "  - Herrera, Mariana\n",
            "  - León, Izabela de\n",
            "  - Morales, Beatriz\n",
            "  - Olivera, Lucas\n",
            "  - Ramirez, Blanca\n",
            "  - Rivera, Camila\n",
            "  - Rodriguez, Ángel\n",
            "  - Santos, Felipe\n",
            "  - Silva, Santiago\n",
            "\n",
            "Las Tiendas comparten sus empleados.\n"
          ]
        }
      ]
    },
    {
      "cell_type": "markdown",
      "source": [
        "# 8. Conclusión"
      ],
      "metadata": {
        "id": "PJyHbuhqJvI0"
      }
    },
    {
      "cell_type": "markdown",
      "source": [
        "Según el análisis anteriormente realizado, la Tienda 4 es la que presenta los menores ingresos totales, si bien su calificación promedio de los clientes es buena siendo un 3.99, es inferior a las tiendas 2 (4.03) y 3 (4.04). Pese a que la tienda 4 tiene un costo promedio de envio más bajo podria ser una ventaja para atraer compradores pero su bajo volumen de ingresos demuestra lo contrario.\n",
        "Luego se realizó el cálculo de la incidencia del costo de envío en las ventas lo que arrojo una paridad entre las tiendas no teniendo incidencia alguna para nuestro análisis.\n",
        "Por último se confeccionó un listado de la cantidad de empleados que tiene cada Tienda arrojando el mismo resultado (14) siendo los mismos empleados para todas las tiendas.\n",
        "Esto traducido quiere decir que los empleados son en total 14 para las 4 tiendas por lo que hay una rotación de empleados. Es por eso que no tiene incidencia alguna.\n",
        "Distinto hubiera sido que algunas tiendas hubiera tenido más empleados que otra, lo cual incidiría en el margén de ganancia de algunas de las tiendas.\n",
        "Por lo tanto se aconseja al Sr. Juan considerar vender la tienda 4."
      ],
      "metadata": {
        "id": "vTelAiTuJ64U"
      }
    }
  ]
}